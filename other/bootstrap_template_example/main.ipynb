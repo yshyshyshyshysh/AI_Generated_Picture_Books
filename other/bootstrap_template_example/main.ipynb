{
 "cells": [
  {
   "cell_type": "markdown",
   "metadata": {},
   "source": [
    "**Flask and ngrok**\n",
    "-   Get authtoken: https://dashboard.ngrok.com/get-started/your-authtoken \n",
    "-   Stop existing tunnel: https://dashboard.ngrok.com/tunnels/agents"
   ]
  },
  {
   "cell_type": "markdown",
   "metadata": {},
   "source": [
    "Ref:\n",
    "-   https://medium.com/%E5%B7%A5%E7%A8%8B%E9%9A%A8%E5%AF%AB%E7%AD%86%E8%A8%98/%E4%BD%BF%E7%94%A8-python-flask-%E5%BB%BA%E7%AB%8B%E7%B6%B2%E7%AB%99-353e449a9bc8\n",
    "-   https://www.reddit.com/r/flask/comments/123hb4s/stuck_on_render_template/"
   ]
  },
  {
   "cell_type": "code",
   "execution_count": 18,
   "metadata": {},
   "outputs": [
    {
     "name": "stdout",
     "output_type": "stream",
     "text": [
      "Enter your authtoken, which can be copied from https://dashboard.ngrok.com/get-started/your-authtoken\n",
      " * ngrok tunnel \"https://867c-140-112-13-148.ngrok-free.app\" -> \"http://127.0.0.1:5000/\"\n",
      " * Serving Flask app '__main__'\n",
      " * Debug mode: off\n"
     ]
    },
    {
     "name": "stderr",
     "output_type": "stream",
     "text": [
      "WARNING: This is a development server. Do not use it in a production deployment. Use a production WSGI server instead.\n",
      " * Running on http://127.0.0.1:5000\n",
      "Press CTRL+C to quit\n",
      "127.0.0.1 - - [17/May/2024 16:04:07] \"GET / HTTP/1.1\" 200 -\n",
      "127.0.0.1 - - [17/May/2024 16:04:08] \"GET /favicon.ico HTTP/1.1\" 404 -\n",
      "127.0.0.1 - - [17/May/2024 16:04:12] \"GET /index HTTP/1.1\" 200 -\n",
      "127.0.0.1 - - [17/May/2024 16:04:13] \"GET /static/dist/css/styles.css HTTP/1.1\" 200 -\n",
      "127.0.0.1 - - [17/May/2024 16:04:13] \"GET /static/dist/assets/img/ipad.png HTTP/1.1\" 200 -\n",
      "127.0.0.1 - - [17/May/2024 16:04:13] \"GET /static/dist/assets/img/bg-masthead.jpg HTTP/1.1\" 200 -\n",
      "127.0.0.1 - - [17/May/2024 16:04:13] \"GET /static/dist/assets/img/demo-image-01.jpg HTTP/1.1\" 200 -\n",
      "127.0.0.1 - - [17/May/2024 16:04:13] \"GET /static/dist/js/scripts.js HTTP/1.1\" 200 -\n",
      "127.0.0.1 - - [17/May/2024 16:04:13] \"GET /static/dist/assets/img/demo-image-02.jpg HTTP/1.1\" 200 -\n",
      "127.0.0.1 - - [17/May/2024 16:04:14] \"GET /static/dist/assets/img/bg-signup.jpg HTTP/1.1\" 200 -\n",
      "127.0.0.1 - - [17/May/2024 16:04:16] \"GET /static/dist/assets/favicon.ico HTTP/1.1\" 200 -\n"
     ]
    }
   ],
   "source": [
    "# !pip install flask\n",
    "# !pip install pyngrok\n",
    "\n",
    "from flask import Flask,render_template,url_for\n",
    "from pyngrok import ngrok, conf\n",
    "import getpass\n",
    "\n",
    "\"\"\"Enter ngrok authtoken\"\"\"\n",
    "\n",
    "print(\"Enter your authtoken, which can be copied from https://dashboard.ngrok.com/get-started/your-authtoken\")\n",
    "conf.get_default().auth_token = getpass.getpass()\n",
    "\n",
    "app = Flask(__name__)\n",
    "\n",
    "\"\"\"Open ngrok tunnel\"\"\"\n",
    "\n",
    "public_url = ngrok.connect(5000).public_url # Open a ngrok tunnel to the HTTP server\n",
    "print(\" * ngrok tunnel \\\"{}\\\" -> \\\"http://127.0.0.1:{}/\\\"\".format(public_url, 5000))\n",
    "app.config[\"BASE_URL\"] = public_url # Update any base URLs to use the public ngrok URL\n",
    "\n",
    "\"\"\"Define routes\"\"\"\n",
    "\n",
    "@app.route(\"/\") # 主頁\n",
    "def hello_world():\n",
    "    return \"Hello, World!\"\n",
    "\n",
    "@app.route(\"/\") # 主頁\n",
    "@app.route('/index') # 某分頁\n",
    "def index():\n",
    "    return render_template('index.html')\n",
    "\n",
    "\"\"\"Run the app\"\"\"\n",
    "\n",
    "if __name__ == \"__main__\":\n",
    "    app.run()\n",
    "    "
   ]
  }
 ],
 "metadata": {
  "kernelspec": {
   "display_name": "Python 3",
   "language": "python",
   "name": "python3"
  },
  "language_info": {
   "codemirror_mode": {
    "name": "ipython",
    "version": 3
   },
   "file_extension": ".py",
   "mimetype": "text/x-python",
   "name": "python",
   "nbconvert_exporter": "python",
   "pygments_lexer": "ipython3",
   "version": "3.10.12"
  }
 },
 "nbformat": 4,
 "nbformat_minor": 2
}
